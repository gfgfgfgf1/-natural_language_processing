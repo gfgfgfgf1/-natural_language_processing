{
 "cells": [
  {
   "cell_type": "markdown",
   "metadata": {},
   "source": [
    "## Настройки/Гиперпараметры/Импорты"
   ]
  },
  {
   "cell_type": "code",
   "execution_count": 2,
   "metadata": {
    "datalore": {
     "hide_input_from_viewers": true,
     "hide_output_from_viewers": true,
     "node_id": "ehBodu81hsOClYBAf4nx42",
     "type": "CODE"
    }
   },
   "outputs": [],
   "source": [
    "import pandas as pd\n",
    "import numpy as np\n",
    "import re\n",
    "import nltk\n",
    "from nltk.tokenize import word_tokenize\n",
    "from nltk.corpus import stopwords\n",
    "from nltk.stem import WordNetLemmatizer\n",
    "from sklearn.feature_extraction.text import CountVectorizer\n",
    "from sklearn.model_selection import train_test_split\n",
    "from sklearn.model_selection import GridSearchCV\n",
    "from sklearn.neighbors import KNeighborsClassifier\n",
    "from sklearn.ensemble import RandomForestClassifier\n",
    "from sklearn.tree import DecisionTreeClassifier\n",
    "from sklearn import svm\n",
    "from sklearn import metrics\n",
    "import matplotlib.pyplot as plt"
   ]
  },
  {
   "cell_type": "markdown",
   "metadata": {},
   "source": [
    "### 1) Очистка данных"
   ]
  },
  {
   "cell_type": "code",
   "execution_count": 20,
   "metadata": {
    "datalore": {
     "hide_input_from_viewers": true,
     "hide_output_from_viewers": true,
     "node_id": "aZ6BKtjeoPaAQy47IWU34o",
     "type": "CODE"
    }
   },
   "outputs": [
    {
     "data": {
      "text/html": [
       "<div>\n",
       "<style scoped>\n",
       "    .dataframe tbody tr th:only-of-type {\n",
       "        vertical-align: middle;\n",
       "    }\n",
       "\n",
       "    .dataframe tbody tr th {\n",
       "        vertical-align: top;\n",
       "    }\n",
       "\n",
       "    .dataframe thead th {\n",
       "        text-align: right;\n",
       "    }\n",
       "</style>\n",
       "<table border=\"1\" class=\"dataframe\">\n",
       "  <thead>\n",
       "    <tr style=\"text-align: right;\">\n",
       "      <th></th>\n",
       "      <th>source_text</th>\n",
       "      <th>ethno</th>\n",
       "    </tr>\n",
       "  </thead>\n",
       "  <tbody>\n",
       "    <tr>\n",
       "      <th>0</th>\n",
       "      <td>[[id174199907|Мустафа], мы, украинцы и белорус...</td>\n",
       "      <td>казах</td>\n",
       "    </tr>\n",
       "    <tr>\n",
       "      <th>1</th>\n",
       "      <td>Короче, я сейчас не оправдываюсь, просто хочу ...</td>\n",
       "      <td>казах</td>\n",
       "    </tr>\n",
       "    <tr>\n",
       "      <th>2</th>\n",
       "      <td>[[id211685480|Заур], это связано с твоими слов...</td>\n",
       "      <td>казах</td>\n",
       "    </tr>\n",
       "    <tr>\n",
       "      <th>3</th>\n",
       "      <td>RT @VRSoloviev: &lt;a href=\\http://youtube.com/wa...</td>\n",
       "      <td>казах</td>\n",
       "    </tr>\n",
       "    <tr>\n",
       "      <th>4</th>\n",
       "      <td>Большинство монголов по крови говорят на русск...</td>\n",
       "      <td>казах</td>\n",
       "    </tr>\n",
       "    <tr>\n",
       "      <th>...</th>\n",
       "      <td>...</td>\n",
       "      <td>...</td>\n",
       "    </tr>\n",
       "    <tr>\n",
       "      <th>5571</th>\n",
       "      <td>Руслан, если читать про аварцев то и Дудаев и ...</td>\n",
       "      <td>карачаевец</td>\n",
       "    </tr>\n",
       "    <tr>\n",
       "      <th>5572</th>\n",
       "      <td>Абдулатип, у меня есть братья чеченцы , друзья...</td>\n",
       "      <td>карачаевец</td>\n",
       "    </tr>\n",
       "    <tr>\n",
       "      <th>5573</th>\n",
       "      <td>Да как вас узкоглазых различишь то? И на кой э...</td>\n",
       "      <td>кавказец</td>\n",
       "    </tr>\n",
       "    <tr>\n",
       "      <th>5574</th>\n",
       "      <td>Интересно, а если Путин или какой-нибудь друго...</td>\n",
       "      <td>кавказец</td>\n",
       "    </tr>\n",
       "    <tr>\n",
       "      <th>5575</th>\n",
       "      <td>Санжар, это узкоглазых казахов не было,а что г...</td>\n",
       "      <td>башкир</td>\n",
       "    </tr>\n",
       "  </tbody>\n",
       "</table>\n",
       "<p>5576 rows × 2 columns</p>\n",
       "</div>"
      ],
      "text/plain": [
       "                                            source_text       ethno\n",
       "0     [[id174199907|Мустафа], мы, украинцы и белорус...       казах\n",
       "1     Короче, я сейчас не оправдываюсь, просто хочу ...       казах\n",
       "2     [[id211685480|Заур], это связано с твоими слов...       казах\n",
       "3     RT @VRSoloviev: <a href=\\http://youtube.com/wa...       казах\n",
       "4     Большинство монголов по крови говорят на русск...       казах\n",
       "...                                                 ...         ...\n",
       "5571  Руслан, если читать про аварцев то и Дудаев и ...  карачаевец\n",
       "5572  Абдулатип, у меня есть братья чеченцы , друзья...  карачаевец\n",
       "5573  Да как вас узкоглазых различишь то? И на кой э...    кавказец\n",
       "5574  Интересно, а если Путин или какой-нибудь друго...    кавказец\n",
       "5575  Санжар, это узкоглазых казахов не было,а что г...      башкир\n",
       "\n",
       "[5576 rows x 2 columns]"
      ]
     },
     "execution_count": 20,
     "metadata": {},
     "output_type": "execute_result"
    }
   ],
   "source": [
    "data = pd.read_csv('etno_home_work.csv', sep =\";\")\n",
    "data"
   ]
  },
  {
   "cell_type": "code",
   "execution_count": 21,
   "metadata": {
    "datalore": {
     "hide_input_from_viewers": true,
     "hide_output_from_viewers": true,
     "node_id": "O8u8zeelseJHSI1i5lYL9z",
     "type": "CODE"
    }
   },
   "outputs": [
    {
     "name": "stdout",
     "output_type": "stream",
     "text": [
      "<class 'pandas.core.frame.DataFrame'>\n",
      "RangeIndex: 5576 entries, 0 to 5575\n",
      "Data columns (total 2 columns):\n",
      " #   Column       Non-Null Count  Dtype \n",
      "---  ------       --------------  ----- \n",
      " 0   source_text  5576 non-null   object\n",
      " 1   ethno        5576 non-null   object\n",
      "dtypes: object(2)\n",
      "memory usage: 87.2+ KB\n"
     ]
    }
   ],
   "source": [
    "data.info()"
   ]
  },
  {
   "cell_type": "code",
   "execution_count": 22,
   "metadata": {
    "datalore": {
     "hide_input_from_viewers": true,
     "hide_output_from_viewers": true,
     "node_id": "K2Ghr0lT7qh1YPmgtvwtA6",
     "type": "CODE"
    }
   },
   "outputs": [
    {
     "data": {
      "text/html": [
       "<div>\n",
       "<style scoped>\n",
       "    .dataframe tbody tr th:only-of-type {\n",
       "        vertical-align: middle;\n",
       "    }\n",
       "\n",
       "    .dataframe tbody tr th {\n",
       "        vertical-align: top;\n",
       "    }\n",
       "\n",
       "    .dataframe thead th {\n",
       "        text-align: right;\n",
       "    }\n",
       "</style>\n",
       "<table border=\"1\" class=\"dataframe\">\n",
       "  <thead>\n",
       "    <tr style=\"text-align: right;\">\n",
       "      <th></th>\n",
       "      <th>source_text</th>\n",
       "      <th>ethno</th>\n",
       "    </tr>\n",
       "  </thead>\n",
       "  <tbody>\n",
       "    <tr>\n",
       "      <th>count</th>\n",
       "      <td>5576</td>\n",
       "      <td>5576</td>\n",
       "    </tr>\n",
       "    <tr>\n",
       "      <th>unique</th>\n",
       "      <td>5576</td>\n",
       "      <td>178</td>\n",
       "    </tr>\n",
       "    <tr>\n",
       "      <th>top</th>\n",
       "      <td>[[id146858230|Андрей], ВНЕЗАПНО в Новороссии (...</td>\n",
       "      <td>казах</td>\n",
       "    </tr>\n",
       "    <tr>\n",
       "      <th>freq</th>\n",
       "      <td>1</td>\n",
       "      <td>367</td>\n",
       "    </tr>\n",
       "  </tbody>\n",
       "</table>\n",
       "</div>"
      ],
      "text/plain": [
       "                                              source_text  ethno\n",
       "count                                                5576   5576\n",
       "unique                                               5576    178\n",
       "top     [[id146858230|Андрей], ВНЕЗАПНО в Новороссии (...  казах\n",
       "freq                                                    1    367"
      ]
     },
     "execution_count": 22,
     "metadata": {},
     "output_type": "execute_result"
    }
   ],
   "source": [
    "data.describe()"
   ]
  },
  {
   "cell_type": "code",
   "execution_count": 23,
   "metadata": {
    "datalore": {
     "hide_input_from_viewers": true,
     "hide_output_from_viewers": true,
     "node_id": "ToEBCcABXSzMjVyJbqzR8N",
     "type": "CODE"
    }
   },
   "outputs": [
    {
     "data": {
      "text/html": [
       "<div>\n",
       "<style scoped>\n",
       "    .dataframe tbody tr th:only-of-type {\n",
       "        vertical-align: middle;\n",
       "    }\n",
       "\n",
       "    .dataframe tbody tr th {\n",
       "        vertical-align: top;\n",
       "    }\n",
       "\n",
       "    .dataframe thead th {\n",
       "        text-align: right;\n",
       "    }\n",
       "</style>\n",
       "<table border=\"1\" class=\"dataframe\">\n",
       "  <thead>\n",
       "    <tr style=\"text-align: right;\">\n",
       "      <th></th>\n",
       "      <th>ethno</th>\n",
       "      <th>number of ethno</th>\n",
       "    </tr>\n",
       "  </thead>\n",
       "  <tbody>\n",
       "    <tr>\n",
       "      <th>0</th>\n",
       "      <td>казах</td>\n",
       "      <td>367</td>\n",
       "    </tr>\n",
       "    <tr>\n",
       "      <th>1</th>\n",
       "      <td>азербайджанец</td>\n",
       "      <td>355</td>\n",
       "    </tr>\n",
       "    <tr>\n",
       "      <th>2</th>\n",
       "      <td>аварец</td>\n",
       "      <td>224</td>\n",
       "    </tr>\n",
       "    <tr>\n",
       "      <th>3</th>\n",
       "      <td>калмык</td>\n",
       "      <td>162</td>\n",
       "    </tr>\n",
       "    <tr>\n",
       "      <th>4</th>\n",
       "      <td>кавказец</td>\n",
       "      <td>154</td>\n",
       "    </tr>\n",
       "    <tr>\n",
       "      <th>...</th>\n",
       "      <td>...</td>\n",
       "      <td>...</td>\n",
       "    </tr>\n",
       "    <tr>\n",
       "      <th>173</th>\n",
       "      <td>уйгурский</td>\n",
       "      <td>1</td>\n",
       "    </tr>\n",
       "    <tr>\n",
       "      <th>174</th>\n",
       "      <td>евразийский_прил</td>\n",
       "      <td>1</td>\n",
       "    </tr>\n",
       "    <tr>\n",
       "      <th>175</th>\n",
       "      <td>дагестанский_прил</td>\n",
       "      <td>1</td>\n",
       "    </tr>\n",
       "    <tr>\n",
       "      <th>176</th>\n",
       "      <td>великоросский_прил</td>\n",
       "      <td>1</td>\n",
       "    </tr>\n",
       "    <tr>\n",
       "      <th>177</th>\n",
       "      <td>хохляцкий_прил</td>\n",
       "      <td>1</td>\n",
       "    </tr>\n",
       "  </tbody>\n",
       "</table>\n",
       "<p>178 rows × 2 columns</p>\n",
       "</div>"
      ],
      "text/plain": [
       "                  ethno  number of ethno\n",
       "0                 казах              367\n",
       "1         азербайджанец              355\n",
       "2                аварец              224\n",
       "3                калмык              162\n",
       "4              кавказец              154\n",
       "..                  ...              ...\n",
       "173           уйгурский                1\n",
       "174    евразийский_прил                1\n",
       "175   дагестанский_прил                1\n",
       "176  великоросский_прил                1\n",
       "177      хохляцкий_прил                1\n",
       "\n",
       "[178 rows x 2 columns]"
      ]
     },
     "execution_count": 23,
     "metadata": {},
     "output_type": "execute_result"
    }
   ],
   "source": [
    "df = data.ethno.value_counts().to_frame()\n",
    "df = df.reset_index()\n",
    "df.columns = ['ethno', 'number of ethno']\n",
    "df"
   ]
  },
  {
   "cell_type": "code",
   "execution_count": 24,
   "metadata": {
    "datalore": {
     "hide_input_from_viewers": true,
     "hide_output_from_viewers": true,
     "node_id": "uF6D7srp9XnG3OMp4ZR7I1",
     "type": "CODE"
    }
   },
   "outputs": [
    {
     "data": {
      "text/html": [
       "<div>\n",
       "<style scoped>\n",
       "    .dataframe tbody tr th:only-of-type {\n",
       "        vertical-align: middle;\n",
       "    }\n",
       "\n",
       "    .dataframe tbody tr th {\n",
       "        vertical-align: top;\n",
       "    }\n",
       "\n",
       "    .dataframe thead th {\n",
       "        text-align: right;\n",
       "    }\n",
       "</style>\n",
       "<table border=\"1\" class=\"dataframe\">\n",
       "  <thead>\n",
       "    <tr style=\"text-align: right;\">\n",
       "      <th></th>\n",
       "      <th>ethno</th>\n",
       "      <th>number of ethno</th>\n",
       "    </tr>\n",
       "  </thead>\n",
       "  <tbody>\n",
       "    <tr>\n",
       "      <th>70</th>\n",
       "      <td>уйгур</td>\n",
       "      <td>19</td>\n",
       "    </tr>\n",
       "    <tr>\n",
       "      <th>71</th>\n",
       "      <td>кумык</td>\n",
       "      <td>18</td>\n",
       "    </tr>\n",
       "    <tr>\n",
       "      <th>72</th>\n",
       "      <td>даргинец</td>\n",
       "      <td>17</td>\n",
       "    </tr>\n",
       "    <tr>\n",
       "      <th>73</th>\n",
       "      <td>русак</td>\n",
       "      <td>16</td>\n",
       "    </tr>\n",
       "    <tr>\n",
       "      <th>74</th>\n",
       "      <td>якут</td>\n",
       "      <td>16</td>\n",
       "    </tr>\n",
       "    <tr>\n",
       "      <th>...</th>\n",
       "      <td>...</td>\n",
       "      <td>...</td>\n",
       "    </tr>\n",
       "    <tr>\n",
       "      <th>173</th>\n",
       "      <td>уйгурский</td>\n",
       "      <td>1</td>\n",
       "    </tr>\n",
       "    <tr>\n",
       "      <th>174</th>\n",
       "      <td>евразийский_прил</td>\n",
       "      <td>1</td>\n",
       "    </tr>\n",
       "    <tr>\n",
       "      <th>175</th>\n",
       "      <td>дагестанский_прил</td>\n",
       "      <td>1</td>\n",
       "    </tr>\n",
       "    <tr>\n",
       "      <th>176</th>\n",
       "      <td>великоросский_прил</td>\n",
       "      <td>1</td>\n",
       "    </tr>\n",
       "    <tr>\n",
       "      <th>177</th>\n",
       "      <td>хохляцкий_прил</td>\n",
       "      <td>1</td>\n",
       "    </tr>\n",
       "  </tbody>\n",
       "</table>\n",
       "<p>108 rows × 2 columns</p>\n",
       "</div>"
      ],
      "text/plain": [
       "                  ethno  number of ethno\n",
       "70                уйгур               19\n",
       "71                кумык               18\n",
       "72             даргинец               17\n",
       "73                русак               16\n",
       "74                 якут               16\n",
       "..                  ...              ...\n",
       "173           уйгурский                1\n",
       "174    евразийский_прил                1\n",
       "175   дагестанский_прил                1\n",
       "176  великоросский_прил                1\n",
       "177      хохляцкий_прил                1\n",
       "\n",
       "[108 rows x 2 columns]"
      ]
     },
     "execution_count": 24,
     "metadata": {},
     "output_type": "execute_result"
    }
   ],
   "source": [
    "df = df.loc[df['number of ethno'] < 20]\n",
    "df"
   ]
  },
  {
   "cell_type": "code",
   "execution_count": 25,
   "metadata": {
    "datalore": {
     "hide_input_from_viewers": true,
     "hide_output_from_viewers": true,
     "node_id": "aMteCM6Ds5plbqFiZVXHGh",
     "type": "CODE"
    }
   },
   "outputs": [
    {
     "data": {
      "text/plain": [
       "0                   уйгур\n",
       "1                   кумык\n",
       "2                даргинец\n",
       "3                   русак\n",
       "4                    якут\n",
       "              ...        \n",
       "103             уйгурский\n",
       "104      евразийский_прил\n",
       "105     дагестанский_прил\n",
       "106    великоросский_прил\n",
       "107        хохляцкий_прил\n",
       "Name: ethno, Length: 108, dtype: object"
      ]
     },
     "execution_count": 25,
     "metadata": {},
     "output_type": "execute_result"
    }
   ],
   "source": [
    "df['ethno'].reset_index(drop=True, inplace=True)\n",
    "df['ethno']"
   ]
  },
  {
   "cell_type": "code",
   "execution_count": 26,
   "metadata": {
    "datalore": {
     "hide_input_from_viewers": true,
     "hide_output_from_viewers": true,
     "node_id": "ApysvJnv4hrp6xsGQbSksd",
     "type": "CODE"
    }
   },
   "outputs": [],
   "source": [
    "for i in range(df['ethno'].shape[0]):\n",
    "    data = data.loc[data['ethno'] != df['ethno'][i]]"
   ]
  },
  {
   "cell_type": "code",
   "execution_count": 27,
   "metadata": {
    "datalore": {
     "hide_input_from_viewers": true,
     "hide_output_from_viewers": true,
     "node_id": "KCjceN53AVDW2wjkuRiYoM",
     "type": "CODE"
    }
   },
   "outputs": [
    {
     "data": {
      "text/html": [
       "<div>\n",
       "<style scoped>\n",
       "    .dataframe tbody tr th:only-of-type {\n",
       "        vertical-align: middle;\n",
       "    }\n",
       "\n",
       "    .dataframe tbody tr th {\n",
       "        vertical-align: top;\n",
       "    }\n",
       "\n",
       "    .dataframe thead th {\n",
       "        text-align: right;\n",
       "    }\n",
       "</style>\n",
       "<table border=\"1\" class=\"dataframe\">\n",
       "  <thead>\n",
       "    <tr style=\"text-align: right;\">\n",
       "      <th></th>\n",
       "      <th>source_text</th>\n",
       "      <th>ethno</th>\n",
       "    </tr>\n",
       "  </thead>\n",
       "  <tbody>\n",
       "    <tr>\n",
       "      <th>0</th>\n",
       "      <td>[[id174199907|Мустафа], мы, украинцы и белорус...</td>\n",
       "      <td>казах</td>\n",
       "    </tr>\n",
       "    <tr>\n",
       "      <th>1</th>\n",
       "      <td>Короче, я сейчас не оправдываюсь, просто хочу ...</td>\n",
       "      <td>казах</td>\n",
       "    </tr>\n",
       "    <tr>\n",
       "      <th>2</th>\n",
       "      <td>[[id211685480|Заур], это связано с твоими слов...</td>\n",
       "      <td>казах</td>\n",
       "    </tr>\n",
       "    <tr>\n",
       "      <th>3</th>\n",
       "      <td>RT @VRSoloviev: &lt;a href=\\http://youtube.com/wa...</td>\n",
       "      <td>казах</td>\n",
       "    </tr>\n",
       "    <tr>\n",
       "      <th>4</th>\n",
       "      <td>Большинство монголов по крови говорят на русск...</td>\n",
       "      <td>казах</td>\n",
       "    </tr>\n",
       "    <tr>\n",
       "      <th>...</th>\n",
       "      <td>...</td>\n",
       "      <td>...</td>\n",
       "    </tr>\n",
       "    <tr>\n",
       "      <th>4853</th>\n",
       "      <td>Руслан, если читать про аварцев то и Дудаев и ...</td>\n",
       "      <td>карачаевец</td>\n",
       "    </tr>\n",
       "    <tr>\n",
       "      <th>4854</th>\n",
       "      <td>Абдулатип, у меня есть братья чеченцы , друзья...</td>\n",
       "      <td>карачаевец</td>\n",
       "    </tr>\n",
       "    <tr>\n",
       "      <th>4855</th>\n",
       "      <td>Да как вас узкоглазых различишь то? И на кой э...</td>\n",
       "      <td>кавказец</td>\n",
       "    </tr>\n",
       "    <tr>\n",
       "      <th>4856</th>\n",
       "      <td>Интересно, а если Путин или какой-нибудь друго...</td>\n",
       "      <td>кавказец</td>\n",
       "    </tr>\n",
       "    <tr>\n",
       "      <th>4857</th>\n",
       "      <td>Санжар, это узкоглазых казахов не было,а что г...</td>\n",
       "      <td>башкир</td>\n",
       "    </tr>\n",
       "  </tbody>\n",
       "</table>\n",
       "<p>4858 rows × 2 columns</p>\n",
       "</div>"
      ],
      "text/plain": [
       "                                            source_text       ethno\n",
       "0     [[id174199907|Мустафа], мы, украинцы и белорус...       казах\n",
       "1     Короче, я сейчас не оправдываюсь, просто хочу ...       казах\n",
       "2     [[id211685480|Заур], это связано с твоими слов...       казах\n",
       "3     RT @VRSoloviev: <a href=\\http://youtube.com/wa...       казах\n",
       "4     Большинство монголов по крови говорят на русск...       казах\n",
       "...                                                 ...         ...\n",
       "4853  Руслан, если читать про аварцев то и Дудаев и ...  карачаевец\n",
       "4854  Абдулатип, у меня есть братья чеченцы , друзья...  карачаевец\n",
       "4855  Да как вас узкоглазых различишь то? И на кой э...    кавказец\n",
       "4856  Интересно, а если Путин или какой-нибудь друго...    кавказец\n",
       "4857  Санжар, это узкоглазых казахов не было,а что г...      башкир\n",
       "\n",
       "[4858 rows x 2 columns]"
      ]
     },
     "execution_count": 27,
     "metadata": {},
     "output_type": "execute_result"
    }
   ],
   "source": [
    "data.reset_index(drop=True, inplace=True)\n",
    "data"
   ]
  },
  {
   "cell_type": "code",
   "execution_count": 28,
   "metadata": {
    "datalore": {
     "hide_input_from_viewers": true,
     "hide_output_from_viewers": true,
     "node_id": "JPsQSmG2XrEVg9Ip4X4qBl",
     "type": "CODE"
    }
   },
   "outputs": [
    {
     "data": {
      "text/html": [
       "<div>\n",
       "<style scoped>\n",
       "    .dataframe tbody tr th:only-of-type {\n",
       "        vertical-align: middle;\n",
       "    }\n",
       "\n",
       "    .dataframe tbody tr th {\n",
       "        vertical-align: top;\n",
       "    }\n",
       "\n",
       "    .dataframe thead th {\n",
       "        text-align: right;\n",
       "    }\n",
       "</style>\n",
       "<table border=\"1\" class=\"dataframe\">\n",
       "  <thead>\n",
       "    <tr style=\"text-align: right;\">\n",
       "      <th></th>\n",
       "      <th>ethno</th>\n",
       "    </tr>\n",
       "  </thead>\n",
       "  <tbody>\n",
       "    <tr>\n",
       "      <th>казах</th>\n",
       "      <td>367</td>\n",
       "    </tr>\n",
       "    <tr>\n",
       "      <th>азербайджанец</th>\n",
       "      <td>355</td>\n",
       "    </tr>\n",
       "    <tr>\n",
       "      <th>аварец</th>\n",
       "      <td>224</td>\n",
       "    </tr>\n",
       "    <tr>\n",
       "      <th>калмык</th>\n",
       "      <td>162</td>\n",
       "    </tr>\n",
       "    <tr>\n",
       "      <th>кавказец</th>\n",
       "      <td>154</td>\n",
       "    </tr>\n",
       "    <tr>\n",
       "      <th>...</th>\n",
       "      <td>...</td>\n",
       "    </tr>\n",
       "    <tr>\n",
       "      <th>мариец</th>\n",
       "      <td>21</td>\n",
       "    </tr>\n",
       "    <tr>\n",
       "      <th>чудь</th>\n",
       "      <td>21</td>\n",
       "    </tr>\n",
       "    <tr>\n",
       "      <th>аланы</th>\n",
       "      <td>20</td>\n",
       "    </tr>\n",
       "    <tr>\n",
       "      <th>гагауз</th>\n",
       "      <td>20</td>\n",
       "    </tr>\n",
       "    <tr>\n",
       "      <th>абориген</th>\n",
       "      <td>20</td>\n",
       "    </tr>\n",
       "  </tbody>\n",
       "</table>\n",
       "<p>70 rows × 1 columns</p>\n",
       "</div>"
      ],
      "text/plain": [
       "               ethno\n",
       "казах            367\n",
       "азербайджанец    355\n",
       "аварец           224\n",
       "калмык           162\n",
       "кавказец         154\n",
       "...              ...\n",
       "мариец            21\n",
       "чудь              21\n",
       "аланы             20\n",
       "гагауз            20\n",
       "абориген          20\n",
       "\n",
       "[70 rows x 1 columns]"
      ]
     },
     "execution_count": 28,
     "metadata": {},
     "output_type": "execute_result"
    }
   ],
   "source": [
    "data.ethno.value_counts().to_frame()"
   ]
  },
  {
   "cell_type": "code",
   "execution_count": 29,
   "metadata": {},
   "outputs": [
    {
     "data": {
      "image/png": "[encoded data removed]",
      "text/plain": [
       "<Figure size 1440x576 with 1 Axes>"
      ]
     },
     "metadata": {
      "needs_background": "light"
     },
     "output_type": "display_data"
    }
   ],
   "source": [
    "plt.figure(figsize=(20,8)) # задание размера графика\n",
    "data[\"ethno\"].value_counts().plot.bar() # построение столбчатой диаграммы по данным\n",
    "plt.xticks(rotation=45, ha='right') # поворот на 45 градусов подписей под осью OX (ha='right' ~ правый конец соответствует колонке)\n",
    "plt.title('Представленный этнос') # название графика\n",
    "plt.xlabel('Этнос') # подпись по оси x\n",
    "plt.ylabel('Количество записей') # подпись по оси y\n",
    "plt.show() # вывод графика"
   ]
  },
  {
   "cell_type": "code",
   "execution_count": 30,
   "metadata": {},
   "outputs": [
    {
     "data": {
      "text/plain": [
       "source_text    0\n",
       "ethno          0\n",
       "dtype: int64"
      ]
     },
     "execution_count": 30,
     "metadata": {},
     "output_type": "execute_result"
    }
   ],
   "source": [
    "data.isnull().sum() # проверка наличия пропущенных значений"
   ]
  },
  {
   "cell_type": "markdown",
   "metadata": {},
   "source": [
    "### 2) Нормализация"
   ]
  },
  {
   "cell_type": "code",
   "execution_count": 31,
   "metadata": {
    "datalore": {
     "hide_input_from_viewers": true,
     "hide_output_from_viewers": true,
     "node_id": "CAl6El6lzGctvarpghsfm0",
     "type": "CODE"
    }
   },
   "outputs": [],
   "source": [
    "EXCLUDE_SYMBOLS_STR = u''.join(['\\\\', '/', '|', '.', ',', '?', '!', '(', ')', '-', '—', '_', '=', '*', '&', '\"', \"'\", '#', ':', ';', '0', '1', '2', '3', '4', '5', '6', '7', '8', '9', ']', '[', '<', '>', '»', '«', '@', '…', '+', '%']) # символы для удаления\n",
    "# '$' - не удалили, так как он может нести важную информацию\n",
    "regex_symb = re.compile('[%s]' % re.escape(EXCLUDE_SYMBOLS_STR)) # собираем символы в формат, нужный для библиотеки re\n",
    "\n",
    "stop_words = stopwords.words('russian')"
   ]
  },
  {
   "cell_type": "code",
   "execution_count": 32,
   "metadata": {
    "datalore": {
     "hide_input_from_viewers": true,
     "hide_output_from_viewers": true,
     "node_id": "FuKIHgo0NumKi8wV5pdUNc",
     "type": "CODE"
    }
   },
   "outputs": [],
   "source": [
    "data['Tokens'] = None # создание колонки под токены\n",
    "for i in range(data.shape[0]): # идём по числу новостей\n",
    "    text = data['source_text'][i] # взятие текста\n",
    "    text = text.lower() # приводим к нижнему регистру\n",
    "    text = text.replace(\".com\", \"\") # удаление окончаний ссылок\n",
    "    text = regex_symb.sub(' ', text) # удаление определённых символов\n",
    "    text = re.sub(\"[a-zA-Z]\", \"\", text)\n",
    "    \n",
    "    tokens = [word.strip() for word in word_tokenize(text)] # токенизация текста (разбиение на отдельные слова + удаляем пробелы)\n",
    "\n",
    "    tokens = [word for word in tokens if word not in stop_words] # удаление стоп-слов\n",
    "    \n",
    "    data['Tokens'][i] = tokens # обновление в датасете (теперь вместо текста идут токены)"
   ]
  },
  {
   "cell_type": "code",
   "execution_count": 33,
   "metadata": {
    "datalore": {
     "hide_input_from_viewers": true,
     "hide_output_from_viewers": true,
     "node_id": "PMn5xPj0ENJ5Lto8NSQAGn",
     "type": "CODE"
    }
   },
   "outputs": [
    {
     "data": {
      "text/html": [
       "<div>\n",
       "<style scoped>\n",
       "    .dataframe tbody tr th:only-of-type {\n",
       "        vertical-align: middle;\n",
       "    }\n",
       "\n",
       "    .dataframe tbody tr th {\n",
       "        vertical-align: top;\n",
       "    }\n",
       "\n",
       "    .dataframe thead th {\n",
       "        text-align: right;\n",
       "    }\n",
       "</style>\n",
       "<table border=\"1\" class=\"dataframe\">\n",
       "  <thead>\n",
       "    <tr style=\"text-align: right;\">\n",
       "      <th></th>\n",
       "      <th>source_text</th>\n",
       "      <th>ethno</th>\n",
       "      <th>Tokens</th>\n",
       "    </tr>\n",
       "  </thead>\n",
       "  <tbody>\n",
       "    <tr>\n",
       "      <th>0</th>\n",
       "      <td>[[id174199907|Мустафа], мы, украинцы и белорус...</td>\n",
       "      <td>казах</td>\n",
       "      <td>[мустафа, украинцы, белорусы, вышли, киевской,...</td>\n",
       "    </tr>\n",
       "    <tr>\n",
       "      <th>1</th>\n",
       "      <td>Короче, я сейчас не оправдываюсь, просто хочу ...</td>\n",
       "      <td>казах</td>\n",
       "      <td>[короче, оправдываюсь, просто, хочу, разъяснит...</td>\n",
       "    </tr>\n",
       "    <tr>\n",
       "      <th>2</th>\n",
       "      <td>[[id211685480|Заур], это связано с твоими слов...</td>\n",
       "      <td>казах</td>\n",
       "      <td>[заур, это, связано, твоими, словами, некой, и...</td>\n",
       "    </tr>\n",
       "    <tr>\n",
       "      <th>3</th>\n",
       "      <td>RT @VRSoloviev: &lt;a href=\\http://youtube.com/wa...</td>\n",
       "      <td>казах</td>\n",
       "      <td>[настоящие, казаки, хотя, сказать, этим, ряжен...</td>\n",
       "    </tr>\n",
       "    <tr>\n",
       "      <th>4</th>\n",
       "      <td>Большинство монголов по крови говорят на русск...</td>\n",
       "      <td>казах</td>\n",
       "      <td>[большинство, монголов, крови, говорят, русско...</td>\n",
       "    </tr>\n",
       "    <tr>\n",
       "      <th>...</th>\n",
       "      <td>...</td>\n",
       "      <td>...</td>\n",
       "      <td>...</td>\n",
       "    </tr>\n",
       "    <tr>\n",
       "      <th>4853</th>\n",
       "      <td>Руслан, если читать про аварцев то и Дудаев и ...</td>\n",
       "      <td>карачаевец</td>\n",
       "      <td>[руслан, читать, аварцев, дудаев, амагов, сайт...</td>\n",
       "    </tr>\n",
       "    <tr>\n",
       "      <th>4854</th>\n",
       "      <td>Абдулатип, у меня есть братья чеченцы , друзья...</td>\n",
       "      <td>карачаевец</td>\n",
       "      <td>[абдулатип, братья, чеченцы, друзья, дагестане...</td>\n",
       "    </tr>\n",
       "    <tr>\n",
       "      <th>4855</th>\n",
       "      <td>Да как вас узкоглазых различишь то? И на кой э...</td>\n",
       "      <td>кавказец</td>\n",
       "      <td>[узкоглазых, различишь, кой, это, нужно, гоже,...</td>\n",
       "    </tr>\n",
       "    <tr>\n",
       "      <th>4856</th>\n",
       "      <td>Интересно, а если Путин или какой-нибудь друго...</td>\n",
       "      <td>кавказец</td>\n",
       "      <td>[интересно, путин, российский, стояк, сдаст, р...</td>\n",
       "    </tr>\n",
       "    <tr>\n",
       "      <th>4857</th>\n",
       "      <td>Санжар, это узкоглазых казахов не было,а что г...</td>\n",
       "      <td>башкир</td>\n",
       "      <td>[санжар, это, узкоглазых, казахов, гитлера, на...</td>\n",
       "    </tr>\n",
       "  </tbody>\n",
       "</table>\n",
       "<p>4858 rows × 3 columns</p>\n",
       "</div>"
      ],
      "text/plain": [
       "                                            source_text       ethno  \\\n",
       "0     [[id174199907|Мустафа], мы, украинцы и белорус...       казах   \n",
       "1     Короче, я сейчас не оправдываюсь, просто хочу ...       казах   \n",
       "2     [[id211685480|Заур], это связано с твоими слов...       казах   \n",
       "3     RT @VRSoloviev: <a href=\\http://youtube.com/wa...       казах   \n",
       "4     Большинство монголов по крови говорят на русск...       казах   \n",
       "...                                                 ...         ...   \n",
       "4853  Руслан, если читать про аварцев то и Дудаев и ...  карачаевец   \n",
       "4854  Абдулатип, у меня есть братья чеченцы , друзья...  карачаевец   \n",
       "4855  Да как вас узкоглазых различишь то? И на кой э...    кавказец   \n",
       "4856  Интересно, а если Путин или какой-нибудь друго...    кавказец   \n",
       "4857  Санжар, это узкоглазых казахов не было,а что г...      башкир   \n",
       "\n",
       "                                                 Tokens  \n",
       "0     [мустафа, украинцы, белорусы, вышли, киевской,...  \n",
       "1     [короче, оправдываюсь, просто, хочу, разъяснит...  \n",
       "2     [заур, это, связано, твоими, словами, некой, и...  \n",
       "3     [настоящие, казаки, хотя, сказать, этим, ряжен...  \n",
       "4     [большинство, монголов, крови, говорят, русско...  \n",
       "...                                                 ...  \n",
       "4853  [руслан, читать, аварцев, дудаев, амагов, сайт...  \n",
       "4854  [абдулатип, братья, чеченцы, друзья, дагестане...  \n",
       "4855  [узкоглазых, различишь, кой, это, нужно, гоже,...  \n",
       "4856  [интересно, путин, российский, стояк, сдаст, р...  \n",
       "4857  [санжар, это, узкоглазых, казахов, гитлера, на...  \n",
       "\n",
       "[4858 rows x 3 columns]"
      ]
     },
     "execution_count": 33,
     "metadata": {},
     "output_type": "execute_result"
    }
   ],
   "source": [
    "data"
   ]
  },
  {
   "cell_type": "code",
   "execution_count": 34,
   "metadata": {
    "datalore": {
     "hide_input_from_viewers": true,
     "hide_output_from_viewers": true,
     "node_id": "eeGkdDisay9vMtba4aUpzb",
     "type": "CODE"
    }
   },
   "outputs": [],
   "source": [
    "for i in range(data.shape[0]): # идём по числу новостей\n",
    "    lemmatized_tokens = [WordNetLemmatizer().lemmatize(word) for word in data[\"Tokens\"][i]] # используем лемматизатор на токенах-словах\n",
    "    data[\"Tokens\"][i] = lemmatized_tokens # заменяем токены"
   ]
  },
  {
   "cell_type": "markdown",
   "metadata": {},
   "source": [
    "### 3) Векторизация"
   ]
  },
  {
   "cell_type": "code",
   "execution_count": 35,
   "metadata": {
    "datalore": {
     "hide_input_from_viewers": true,
     "hide_output_from_viewers": true,
     "node_id": "sFwAReApxmnuw4N9JYilJn",
     "type": "CODE"
    }
   },
   "outputs": [],
   "source": [
    "def dummy(tokens): # функция-заглушка для пропуска стадий препроцессинга и токенизации при векторизации (CountVectorizer и TfidfVectorizer)\n",
    "   return tokens"
   ]
  },
  {
   "cell_type": "code",
   "execution_count": 36,
   "metadata": {
    "datalore": {
     "hide_input_from_viewers": true,
     "hide_output_from_viewers": true,
     "node_id": "f9LzR4p7kVacXNJgAqmoUT",
     "type": "CODE"
    }
   },
   "outputs": [
    {
     "name": "stderr",
     "output_type": "stream",
     "text": [
      "c:\\Users\\user\\anaconda3\\lib\\site-packages\\sklearn\\feature_extraction\\text.py:525: UserWarning: The parameter 'token_pattern' will not be used since 'tokenizer' is not None'\n",
      "  warnings.warn(\n"
     ]
    },
    {
     "data": {
      "text/html": [
       "<div>\n",
       "<style scoped>\n",
       "    .dataframe tbody tr th:only-of-type {\n",
       "        vertical-align: middle;\n",
       "    }\n",
       "\n",
       "    .dataframe tbody tr th {\n",
       "        vertical-align: top;\n",
       "    }\n",
       "\n",
       "    .dataframe thead th {\n",
       "        text-align: right;\n",
       "    }\n",
       "</style>\n",
       "<table border=\"1\" class=\"dataframe\">\n",
       "  <thead>\n",
       "    <tr style=\"text-align: right;\">\n",
       "      <th></th>\n",
       "      <th>абсолютно</th>\n",
       "      <th>абхазы</th>\n",
       "      <th>аварец</th>\n",
       "      <th>аварцев</th>\n",
       "      <th>аварцы</th>\n",
       "      <th>автор</th>\n",
       "      <th>ага</th>\n",
       "      <th>адыги</th>\n",
       "      <th>адыгов</th>\n",
       "      <th>азербайджанцев</th>\n",
       "      <th>...</th>\n",
       "      <th>являются</th>\n",
       "      <th>язык</th>\n",
       "      <th>языка</th>\n",
       "      <th>языке</th>\n",
       "      <th>языки</th>\n",
       "      <th>языком</th>\n",
       "      <th>якобы</th>\n",
       "      <th>якутов</th>\n",
       "      <th>якуты</th>\n",
       "      <th>–</th>\n",
       "    </tr>\n",
       "  </thead>\n",
       "  <tbody>\n",
       "    <tr>\n",
       "      <th>0</th>\n",
       "      <td>0</td>\n",
       "      <td>0</td>\n",
       "      <td>0</td>\n",
       "      <td>0</td>\n",
       "      <td>0</td>\n",
       "      <td>0</td>\n",
       "      <td>0</td>\n",
       "      <td>0</td>\n",
       "      <td>0</td>\n",
       "      <td>0</td>\n",
       "      <td>...</td>\n",
       "      <td>0</td>\n",
       "      <td>0</td>\n",
       "      <td>0</td>\n",
       "      <td>0</td>\n",
       "      <td>0</td>\n",
       "      <td>0</td>\n",
       "      <td>0</td>\n",
       "      <td>0</td>\n",
       "      <td>0</td>\n",
       "      <td>0</td>\n",
       "    </tr>\n",
       "    <tr>\n",
       "      <th>1</th>\n",
       "      <td>0</td>\n",
       "      <td>0</td>\n",
       "      <td>0</td>\n",
       "      <td>0</td>\n",
       "      <td>0</td>\n",
       "      <td>0</td>\n",
       "      <td>0</td>\n",
       "      <td>0</td>\n",
       "      <td>0</td>\n",
       "      <td>0</td>\n",
       "      <td>...</td>\n",
       "      <td>0</td>\n",
       "      <td>0</td>\n",
       "      <td>0</td>\n",
       "      <td>0</td>\n",
       "      <td>0</td>\n",
       "      <td>0</td>\n",
       "      <td>0</td>\n",
       "      <td>0</td>\n",
       "      <td>1</td>\n",
       "      <td>0</td>\n",
       "    </tr>\n",
       "    <tr>\n",
       "      <th>2</th>\n",
       "      <td>0</td>\n",
       "      <td>0</td>\n",
       "      <td>0</td>\n",
       "      <td>0</td>\n",
       "      <td>0</td>\n",
       "      <td>0</td>\n",
       "      <td>0</td>\n",
       "      <td>0</td>\n",
       "      <td>0</td>\n",
       "      <td>0</td>\n",
       "      <td>...</td>\n",
       "      <td>0</td>\n",
       "      <td>0</td>\n",
       "      <td>0</td>\n",
       "      <td>0</td>\n",
       "      <td>0</td>\n",
       "      <td>0</td>\n",
       "      <td>0</td>\n",
       "      <td>0</td>\n",
       "      <td>0</td>\n",
       "      <td>0</td>\n",
       "    </tr>\n",
       "    <tr>\n",
       "      <th>3</th>\n",
       "      <td>0</td>\n",
       "      <td>0</td>\n",
       "      <td>0</td>\n",
       "      <td>0</td>\n",
       "      <td>0</td>\n",
       "      <td>0</td>\n",
       "      <td>0</td>\n",
       "      <td>0</td>\n",
       "      <td>0</td>\n",
       "      <td>0</td>\n",
       "      <td>...</td>\n",
       "      <td>0</td>\n",
       "      <td>0</td>\n",
       "      <td>0</td>\n",
       "      <td>0</td>\n",
       "      <td>0</td>\n",
       "      <td>0</td>\n",
       "      <td>0</td>\n",
       "      <td>0</td>\n",
       "      <td>0</td>\n",
       "      <td>0</td>\n",
       "    </tr>\n",
       "    <tr>\n",
       "      <th>4</th>\n",
       "      <td>0</td>\n",
       "      <td>0</td>\n",
       "      <td>0</td>\n",
       "      <td>0</td>\n",
       "      <td>0</td>\n",
       "      <td>0</td>\n",
       "      <td>0</td>\n",
       "      <td>0</td>\n",
       "      <td>0</td>\n",
       "      <td>0</td>\n",
       "      <td>...</td>\n",
       "      <td>0</td>\n",
       "      <td>1</td>\n",
       "      <td>0</td>\n",
       "      <td>0</td>\n",
       "      <td>0</td>\n",
       "      <td>0</td>\n",
       "      <td>0</td>\n",
       "      <td>0</td>\n",
       "      <td>0</td>\n",
       "      <td>0</td>\n",
       "    </tr>\n",
       "    <tr>\n",
       "      <th>...</th>\n",
       "      <td>...</td>\n",
       "      <td>...</td>\n",
       "      <td>...</td>\n",
       "      <td>...</td>\n",
       "      <td>...</td>\n",
       "      <td>...</td>\n",
       "      <td>...</td>\n",
       "      <td>...</td>\n",
       "      <td>...</td>\n",
       "      <td>...</td>\n",
       "      <td>...</td>\n",
       "      <td>...</td>\n",
       "      <td>...</td>\n",
       "      <td>...</td>\n",
       "      <td>...</td>\n",
       "      <td>...</td>\n",
       "      <td>...</td>\n",
       "      <td>...</td>\n",
       "      <td>...</td>\n",
       "      <td>...</td>\n",
       "      <td>...</td>\n",
       "    </tr>\n",
       "    <tr>\n",
       "      <th>4853</th>\n",
       "      <td>0</td>\n",
       "      <td>0</td>\n",
       "      <td>0</td>\n",
       "      <td>1</td>\n",
       "      <td>2</td>\n",
       "      <td>0</td>\n",
       "      <td>0</td>\n",
       "      <td>0</td>\n",
       "      <td>0</td>\n",
       "      <td>0</td>\n",
       "      <td>...</td>\n",
       "      <td>0</td>\n",
       "      <td>0</td>\n",
       "      <td>0</td>\n",
       "      <td>0</td>\n",
       "      <td>0</td>\n",
       "      <td>0</td>\n",
       "      <td>0</td>\n",
       "      <td>0</td>\n",
       "      <td>0</td>\n",
       "      <td>0</td>\n",
       "    </tr>\n",
       "    <tr>\n",
       "      <th>4854</th>\n",
       "      <td>0</td>\n",
       "      <td>0</td>\n",
       "      <td>0</td>\n",
       "      <td>0</td>\n",
       "      <td>0</td>\n",
       "      <td>0</td>\n",
       "      <td>0</td>\n",
       "      <td>0</td>\n",
       "      <td>0</td>\n",
       "      <td>0</td>\n",
       "      <td>...</td>\n",
       "      <td>0</td>\n",
       "      <td>0</td>\n",
       "      <td>0</td>\n",
       "      <td>0</td>\n",
       "      <td>0</td>\n",
       "      <td>0</td>\n",
       "      <td>0</td>\n",
       "      <td>0</td>\n",
       "      <td>0</td>\n",
       "      <td>0</td>\n",
       "    </tr>\n",
       "    <tr>\n",
       "      <th>4855</th>\n",
       "      <td>0</td>\n",
       "      <td>0</td>\n",
       "      <td>0</td>\n",
       "      <td>0</td>\n",
       "      <td>0</td>\n",
       "      <td>0</td>\n",
       "      <td>0</td>\n",
       "      <td>0</td>\n",
       "      <td>0</td>\n",
       "      <td>0</td>\n",
       "      <td>...</td>\n",
       "      <td>0</td>\n",
       "      <td>0</td>\n",
       "      <td>0</td>\n",
       "      <td>0</td>\n",
       "      <td>0</td>\n",
       "      <td>0</td>\n",
       "      <td>0</td>\n",
       "      <td>0</td>\n",
       "      <td>0</td>\n",
       "      <td>0</td>\n",
       "    </tr>\n",
       "    <tr>\n",
       "      <th>4856</th>\n",
       "      <td>0</td>\n",
       "      <td>0</td>\n",
       "      <td>0</td>\n",
       "      <td>0</td>\n",
       "      <td>0</td>\n",
       "      <td>0</td>\n",
       "      <td>0</td>\n",
       "      <td>0</td>\n",
       "      <td>0</td>\n",
       "      <td>0</td>\n",
       "      <td>...</td>\n",
       "      <td>0</td>\n",
       "      <td>0</td>\n",
       "      <td>0</td>\n",
       "      <td>0</td>\n",
       "      <td>0</td>\n",
       "      <td>0</td>\n",
       "      <td>0</td>\n",
       "      <td>0</td>\n",
       "      <td>0</td>\n",
       "      <td>0</td>\n",
       "    </tr>\n",
       "    <tr>\n",
       "      <th>4857</th>\n",
       "      <td>0</td>\n",
       "      <td>0</td>\n",
       "      <td>0</td>\n",
       "      <td>0</td>\n",
       "      <td>0</td>\n",
       "      <td>0</td>\n",
       "      <td>0</td>\n",
       "      <td>0</td>\n",
       "      <td>0</td>\n",
       "      <td>0</td>\n",
       "      <td>...</td>\n",
       "      <td>0</td>\n",
       "      <td>0</td>\n",
       "      <td>0</td>\n",
       "      <td>0</td>\n",
       "      <td>0</td>\n",
       "      <td>0</td>\n",
       "      <td>0</td>\n",
       "      <td>0</td>\n",
       "      <td>0</td>\n",
       "      <td>0</td>\n",
       "    </tr>\n",
       "  </tbody>\n",
       "</table>\n",
       "<p>4858 rows × 919 columns</p>\n",
       "</div>"
      ],
      "text/plain": [
       "      абсолютно  абхазы  аварец  аварцев  аварцы  автор  ага  адыги  адыгов  \\\n",
       "0             0       0       0        0       0      0    0      0       0   \n",
       "1             0       0       0        0       0      0    0      0       0   \n",
       "2             0       0       0        0       0      0    0      0       0   \n",
       "3             0       0       0        0       0      0    0      0       0   \n",
       "4             0       0       0        0       0      0    0      0       0   \n",
       "...         ...     ...     ...      ...     ...    ...  ...    ...     ...   \n",
       "4853          0       0       0        1       2      0    0      0       0   \n",
       "4854          0       0       0        0       0      0    0      0       0   \n",
       "4855          0       0       0        0       0      0    0      0       0   \n",
       "4856          0       0       0        0       0      0    0      0       0   \n",
       "4857          0       0       0        0       0      0    0      0       0   \n",
       "\n",
       "      азербайджанцев  ...  являются  язык  языка  языке  языки  языком  якобы  \\\n",
       "0                  0  ...         0     0      0      0      0       0      0   \n",
       "1                  0  ...         0     0      0      0      0       0      0   \n",
       "2                  0  ...         0     0      0      0      0       0      0   \n",
       "3                  0  ...         0     0      0      0      0       0      0   \n",
       "4                  0  ...         0     1      0      0      0       0      0   \n",
       "...              ...  ...       ...   ...    ...    ...    ...     ...    ...   \n",
       "4853               0  ...         0     0      0      0      0       0      0   \n",
       "4854               0  ...         0     0      0      0      0       0      0   \n",
       "4855               0  ...         0     0      0      0      0       0      0   \n",
       "4856               0  ...         0     0      0      0      0       0      0   \n",
       "4857               0  ...         0     0      0      0      0       0      0   \n",
       "\n",
       "      якутов  якуты  –  \n",
       "0          0      0  0  \n",
       "1          0      1  0  \n",
       "2          0      0  0  \n",
       "3          0      0  0  \n",
       "4          0      0  0  \n",
       "...      ...    ... ..  \n",
       "4853       0      0  0  \n",
       "4854       0      0  0  \n",
       "4855       0      0  0  \n",
       "4856       0      0  0  \n",
       "4857       0      0  0  \n",
       "\n",
       "[4858 rows x 919 columns]"
      ]
     },
     "execution_count": 36,
     "metadata": {},
     "output_type": "execute_result"
    }
   ],
   "source": [
    "count_vectorizer = CountVectorizer(tokenizer=dummy, preprocessor=dummy, max_df=0.5, min_df=25, dtype=np.int8)\n",
    "# max_df - игнорируем токены, что встречаются в 50% переданных новостей\n",
    "# min_df - игнорируем токены, что встретились менее 25 раз\n",
    "# max_features - максимальный размер словаря, если не прокинуть — то он равен числу уникальных токенов\n",
    "# dtype=np.int8 - для уменьшения потребляемой памяти, так как максимальное число встреченных одинаковых токенов в одной новости не более 48 (подсчитано на различных тестах)\n",
    "\n",
    "vectors = count_vectorizer.fit_transform(data['Tokens']).toarray() # векторизируем, toarray() - показать матрицу\n",
    "\n",
    "pd.DataFrame(data=vectors, columns=count_vectorizer.get_feature_names_out()) # матрица для наглядного вывода получившихся векторов новосте"
   ]
  },
  {
   "cell_type": "markdown",
   "metadata": {},
   "source": [
    "#### Определить какие 30 слов дает наибольший вклад в определение 5 наиболее представленных этничностей"
   ]
  },
  {
   "cell_type": "code",
   "execution_count": 37,
   "metadata": {},
   "outputs": [
    {
     "data": {
      "text/plain": [
       "казах            367\n",
       "азербайджанец    355\n",
       "аварец           224\n",
       "калмык           162\n",
       "кавказец         154\n",
       "Name: ethno, dtype: int64"
      ]
     },
     "execution_count": 37,
     "metadata": {},
     "output_type": "execute_result"
    }
   ],
   "source": [
    "data[\"ethno\"].value_counts()[:5] # самые представленные этонсы"
   ]
  },
  {
   "cell_type": "code",
   "execution_count": 38,
   "metadata": {},
   "outputs": [
    {
     "data": {
      "text/plain": [
       "Index(['казах', 'азербайджанец', 'аварец', 'калмык', 'кавказец'], dtype='object')"
      ]
     },
     "execution_count": 38,
     "metadata": {},
     "output_type": "execute_result"
    }
   ],
   "source": [
    "top_presented_ethnos = data[\"ethno\"].value_counts()[:5].keys()\n",
    "top_presented_ethnos"
   ]
  },
  {
   "cell_type": "code",
   "execution_count": 39,
   "metadata": {},
   "outputs": [],
   "source": [
    "data_X = count_vectorizer.transform(data['Tokens']).toarray()"
   ]
  },
  {
   "cell_type": "code",
   "execution_count": 40,
   "metadata": {},
   "outputs": [],
   "source": [
    "features_names = count_vectorizer.get_feature_names_out()"
   ]
  },
  {
   "cell_type": "code",
   "execution_count": 41,
   "metadata": {},
   "outputs": [
    {
     "name": "stdout",
     "output_type": "stream",
     "text": [
      "Для этноса 'казах' специфичны слова:\n",
      "1) кстати (346)\n",
      "2) всё (112)\n",
      "3) этих (904)\n",
      "4) который (333)\n",
      "5) населения (445)\n",
      "6) народы (443)\n",
      "7) путин (614)\n",
      "8) стали (736)\n",
      "9) народ (434)\n",
      "10) кому (322)\n",
      "11) войны (94)\n",
      "12) любят (367)\n",
      "13) ингушей (269)\n",
      "14) народов (440)\n",
      "15) те (787)\n",
      "16) казаки (289)\n",
      "17) племена (551)\n",
      "18) н (419)\n",
      "19) жили (232)\n",
      "20) одни (509)\n",
      "21) дагестан (155)\n",
      "22) назад (421)\n",
      "23) какие (296)\n",
      "24) месте (383)\n",
      "25) свой (684)\n",
      "26) народа (435)\n",
      "27) которой (329)\n",
      "28) своем (679)\n",
      "29) крым (341)\n",
      "30) горцев (142)\n",
      "Для этноса 'азербайджанец' специфичны слова:\n",
      "1) русские (653)\n",
      "2) сталин (737)\n",
      "3) тысячи (808)\n",
      "4) ненавидят (477)\n",
      "5) тыс (806)\n",
      "6) русских (657)\n",
      "7) вообще (96)\n",
      "8) россии (642)\n",
      "9) крым (341)\n",
      "10) часть (867)\n",
      "11) татар (776)\n",
      "12) основном (523)\n",
      "13) русским (655)\n",
      "14) дагестане (157)\n",
      "15) украины (833)\n",
      "16) евреи (214)\n",
      "17) язык (910)\n",
      "18) мало (374)\n",
      "19) рф (665)\n",
      "20) калмыки (304)\n",
      "21) москве (414)\n",
      "22) стоит (740)\n",
      "23) давайте (153)\n",
      "24) ненависть (479)\n",
      "25) чурка (894)\n",
      "26) также (768)\n",
      "27) имя (267)\n",
      "28) проживают (605)\n",
      "29) армии (22)\n",
      "30) крыму (345)\n",
      "Для этноса 'аварец' специфичны слова:\n",
      "1) это (906)\n",
      "2) русские (653)\n",
      "3) просто (607)\n",
      "4) украинцы (832)\n",
      "5) либо (359)\n",
      "6) тебе (788)\n",
      "7) значит (251)\n",
      "8) будь (50)\n",
      "9) стали (736)\n",
      "10) проблемы (604)\n",
      "11) всё (112)\n",
      "12) мире (390)\n",
      "13) евреи (214)\n",
      "14) дагестан (155)\n",
      "15) начала (460)\n",
      "16) слава (704)\n",
      "17) кому (322)\n",
      "18) черкесы (873)\n",
      "19) черкесов (872)\n",
      "20) людей (368)\n",
      "21) те (787)\n",
      "22) честь (877)\n",
      "23) федерации (836)\n",
      "24) сергей (693)\n",
      "25) многие (394)\n",
      "26) еврей (215)\n",
      "27) кавказе (284)\n",
      "28) знает (246)\n",
      "29) очень (537)\n",
      "30) вообще (96)\n",
      "Для этноса 'калмык' специфичны слова:\n",
      "1) русские (653)\n",
      "2) русский (654)\n",
      "3) это (906)\n",
      "4) народа (435)\n",
      "5) одной (513)\n",
      "6) факт (835)\n",
      "7) день (180)\n",
      "8) мнение (393)\n",
      "9) своими (682)\n",
      "10) вами (57)\n",
      "11) просто (607)\n",
      "12) земля (245)\n",
      "13) дело (178)\n",
      "14) армян (23)\n",
      "15) жизнь (230)\n",
      "16) нужны (502)\n",
      "17) пишут (550)\n",
      "18) такая (767)\n",
      "19) ладно (353)\n",
      "20) таким (771)\n",
      "21) сказал (699)\n",
      "22) причем (599)\n",
      "23) народы (443)\n",
      "24) войне (92)\n",
      "25) страна (745)\n",
      "26) жить (235)\n",
      "27) образом (504)\n",
      "28) ссср (733)\n",
      "29) свои (680)\n",
      "30) людей (368)\n",
      "Для этноса 'кавказец' специфичны слова:\n",
      "1) это (906)\n",
      "2) россия (646)\n",
      "3) татары (780)\n",
      "4) ещё (219)\n",
      "5) весь (71)\n",
      "6) слово (709)\n",
      "7) наша (463)\n",
      "8) всё (112)\n",
      "9) людей (368)\n",
      "10) кавказцы (286)\n",
      "11) лет (358)\n",
      "12) чурки (896)\n",
      "13) друг (196)\n",
      "14) ваши (61)\n",
      "15) люди (369)\n",
      "16) жид (226)\n",
      "17) чурок (897)\n",
      "18) такая (767)\n",
      "19) имеет (261)\n",
      "20) одно (511)\n",
      "21) хотят (853)\n",
      "22) хуй (861)\n",
      "23) кем (312)\n",
      "24) другие (199)\n",
      "25) говорят (130)\n",
      "26) ингуши (271)\n",
      "27) долго (186)\n",
      "28) буряты (52)\n",
      "29) страна (745)\n",
      "30) башкиры (29)\n"
     ]
    }
   ],
   "source": [
    "for ethno in top_presented_ethnos:\n",
    "    rows_with_ethno = data.index[data['ethno'] == ethno].tolist()\n",
    "    mean_for_ethno = data_X[rows_with_ethno].mean(axis=0)\n",
    "\n",
    "    rows_without_ethno = data.index[data['ethno'] != ethno].tolist()\n",
    "    mean_for_other = data_X[rows_without_ethno].mean(axis=0)\n",
    "\n",
    "    mean_diff = mean_for_ethno - mean_for_other\n",
    "\n",
    "    indices = np.argsort(mean_diff)[::-1]\n",
    "\n",
    "    print(f\"Для этноса '{ethno}' специфичны слова:\")\n",
    "    for i in range(30):\n",
    "        print(f\"{i+1}) {features_names[indices[i]]} ({indices[i]})\")"
   ]
  },
  {
   "cell_type": "markdown",
   "metadata": {},
   "source": [
    "### 4) Обучение моделей"
   ]
  },
  {
   "cell_type": "code",
   "execution_count": 42,
   "metadata": {
    "datalore": {
     "hide_input_from_viewers": true,
     "hide_output_from_viewers": true,
     "node_id": "2Ryupz82KJ3U2FKNU49aFd",
     "type": "CODE"
    }
   },
   "outputs": [
    {
     "name": "stdout",
     "output_type": "stream",
     "text": [
      "3886 972\n"
     ]
    }
   ],
   "source": [
    "data_train, data_test = train_test_split(data, test_size=0.2)\n",
    "print(len(data_train), len(data_test))"
   ]
  },
  {
   "cell_type": "code",
   "execution_count": 43,
   "metadata": {
    "datalore": {
     "hide_input_from_viewers": true,
     "hide_output_from_viewers": true,
     "node_id": "fBiRJBiAPXorSBCjjm3oGy",
     "type": "CODE"
    }
   },
   "outputs": [],
   "source": [
    "data_train_vect = count_vectorizer.transform(data_train[\"Tokens\"]).toarray()\n",
    "data_train_cat = data_train[\"ethno\"]\n",
    "data_test_vect = count_vectorizer.transform(data_test[\"Tokens\"]).toarray()\n",
    "data_test_cat = data_test[\"ethno\"]"
   ]
  },
  {
   "cell_type": "markdown",
   "metadata": {},
   "source": [
    "#### KNN"
   ]
  },
  {
   "cell_type": "code",
   "execution_count": 50,
   "metadata": {
    "datalore": {
     "hide_input_from_viewers": true,
     "hide_output_from_viewers": true,
     "node_id": "52WM3QNZE6wSla6ggw5eaA",
     "type": "CODE"
    }
   },
   "outputs": [
    {
     "name": "stdout",
     "output_type": "stream",
     "text": [
      "Fitting 3 folds for each of 18 candidates, totalling 54 fits\n",
      "                  precision    recall  f1-score   support\n",
      "\n",
      "        абориген       0.00      0.00      0.00         7\n",
      "           абхаз       0.00      0.00      0.00        22\n",
      "          аварец       0.05      0.11      0.07        36\n",
      "           адыги       0.00      0.00      0.00        16\n",
      "   азербайджанец       0.07      0.08      0.07        62\n",
      "         азербот       0.00      0.00      0.00         5\n",
      "           азиат       0.00      0.00      0.00        14\n",
      "           аланы       0.00      0.00      0.00         9\n",
      "          алтаец       0.00      0.00      0.00         7\n",
      "      американец       0.00      0.00      0.00         9\n",
      "         армянин       0.05      0.04      0.05        24\n",
      "          башкир       0.00      0.00      0.00        11\n",
      "         беларус       0.00      0.00      0.00         9\n",
      "           бурят       0.00      0.00      0.00        10\n",
      "великоросс_кацап       0.00      0.00      0.00         7\n",
      "            вепс       0.00      0.00      0.00         9\n",
      "          гагауз       0.00      0.00      0.00         3\n",
      "    гастарбайтер       0.00      0.00      0.00         7\n",
      "           горец       0.00      0.00      0.00         4\n",
      "      дагестанец       0.02      0.08      0.03        13\n",
      "        евразиец       0.00      0.00      0.00         6\n",
      "           еврей       0.00      0.00      0.00        19\n",
      "       западенцы       0.00      0.00      0.00         7\n",
      "        инородец       0.01      0.06      0.02        17\n",
      "      кабардинец       0.00      0.00      0.00         9\n",
      "        кавказец       0.04      0.06      0.05        31\n",
      "           казак       0.09      0.08      0.09        25\n",
      "           казах       0.04      0.04      0.04        81\n",
      "          калмык       0.00      0.00      0.00        31\n",
      "          караим       0.00      0.00      0.00        18\n",
      "      карачаевец       0.00      0.00      0.00        12\n",
      "           карел       0.00      0.00      0.00        23\n",
      "           коряк       0.00      0.00      0.00         6\n",
      "           латыш       0.00      0.00      0.00         5\n",
      "         литовец       0.00      0.00      0.00         2\n",
      "        малоросс       0.00      0.00      0.00         4\n",
      "           манси       0.00      0.00      0.00         5\n",
      "          мариец       0.50      0.20      0.29         5\n",
      "          монгол       0.00      0.00      0.00        11\n",
      "         мордвин       0.00      0.00      0.00         2\n",
      "          нанаец       0.00      0.00      0.00        16\n",
      "          нацмен       0.00      0.00      0.00        11\n",
      "            негр       0.00      0.00      0.00         9\n",
      "           немец       0.00      0.00      0.00        22\n",
      "           ненец       0.00      0.00      0.00        17\n",
      "       нерусский       0.00      0.00      0.00        11\n",
      "          ногаец       0.00      0.00      0.00         9\n",
      "          осетин       0.10      0.09      0.10        33\n",
      "        пархатый       0.00      0.00      0.00         5\n",
      "          пендос       0.50      0.25      0.33         4\n",
      "           поляк       0.00      0.00      0.00        24\n",
      "         прибалт       0.00      0.00      0.00         9\n",
      "         славяин       0.00      0.00      0.00        14\n",
      "          таджик       0.00      0.00      0.00        20\n",
      "         татарин       0.13      0.21      0.16        14\n",
      "          удмурт       0.00      0.00      0.00         9\n",
      "      узкоглазый       0.00      0.00      0.00         8\n",
      "        украинец       0.00      0.00      0.00        14\n",
      "             хач       0.00      0.00      0.00         4\n",
      "           хохол       0.00      0.00      0.00        20\n",
      "           цыган       0.00      0.00      0.00         4\n",
      "          черкес       0.00      0.00      0.00         8\n",
      "      черножопый       0.00      0.00      0.00         8\n",
      "         чеченец       0.08      0.05      0.06        22\n",
      "           чуваш       0.22      0.12      0.16        16\n",
      "            чудь       0.00      0.00      0.00         4\n",
      "           чукча       0.00      0.00      0.00         6\n",
      "           чурка       0.00      0.00      0.00        14\n",
      "          чучмек       0.00      0.00      0.00         5\n",
      "           эвенк       0.00      0.00      0.00         9\n",
      "\n",
      "        accuracy                           0.03       972\n",
      "       macro avg       0.03      0.02      0.02       972\n",
      "    weighted avg       0.03      0.03      0.03       972\n",
      "\n"
     ]
    },
    {
     "name": "stderr",
     "output_type": "stream",
     "text": [
      "c:\\Users\\user\\anaconda3\\lib\\site-packages\\sklearn\\metrics\\_classification.py:1471: UndefinedMetricWarning: Precision and F-score are ill-defined and being set to 0.0 in labels with no predicted samples. Use `zero_division` parameter to control this behavior.\n",
      "  _warn_prf(average, modifier, msg_start, len(result))\n",
      "c:\\Users\\user\\anaconda3\\lib\\site-packages\\sklearn\\metrics\\_classification.py:1471: UndefinedMetricWarning: Precision and F-score are ill-defined and being set to 0.0 in labels with no predicted samples. Use `zero_division` parameter to control this behavior.\n",
      "  _warn_prf(average, modifier, msg_start, len(result))\n",
      "c:\\Users\\user\\anaconda3\\lib\\site-packages\\sklearn\\metrics\\_classification.py:1471: UndefinedMetricWarning: Precision and F-score are ill-defined and being set to 0.0 in labels with no predicted samples. Use `zero_division` parameter to control this behavior.\n",
      "  _warn_prf(average, modifier, msg_start, len(result))\n"
     ]
    }
   ],
   "source": [
    "params_KNN = [{\n",
    "'n_neighbors': list(range(1, 10)), # кол-во соседей\n",
    "'weights': ['uniform', 'distance'], # вдияние расстояния до соседа на его вклад (\"uniform\" — нет влияния, \"distance\" — чем ближе, тем больше вклад)\n",
    "'metric': [\"minkowski\"], # метрика для подсчёта расстояния между объектами\n",
    "'p': [2], # степень в метрике Минковского расстояния (2 ~ расстояние евклидово)\n",
    "'algorithm': ['auto'], # алгоритм для подсчёта ближайших соседей\n",
    "}]\n",
    "\n",
    "gs_knn = GridSearchCV( # параметры GridSearchCV\n",
    "    KNeighborsClassifier(),\n",
    "    params_KNN,\n",
    "    verbose = 1,\n",
    "    cv=3,\n",
    "    n_jobs=-1,\n",
    "    scoring=\"f1_macro\"\n",
    ")\n",
    "\n",
    "gs_knn_res = gs_knn.fit(data_train_vect, data_train_cat) # подбираем лучшие параметры для оценщика\n",
    "pred_knn = gs_knn_res.best_estimator_.predict(data_test_vect) # предсказываем\n",
    "print(metrics.classification_report(data_test_cat, pred_knn)) # выписываем основные метрики"
   ]
  },
  {
   "cell_type": "code",
   "execution_count": 52,
   "metadata": {},
   "outputs": [
    {
     "name": "stdout",
     "output_type": "stream",
     "text": [
      "Лучший score=0.0131\n"
     ]
    }
   ],
   "source": [
    "print(f\"Лучший score={gs_knn_res.best_score_:.4f}\")"
   ]
  },
  {
   "cell_type": "markdown",
   "metadata": {},
   "source": [
    "#### Random Forest"
   ]
  },
  {
   "cell_type": "code",
   "execution_count": 53,
   "metadata": {
    "datalore": {
     "hide_input_from_viewers": true,
     "hide_output_from_viewers": true,
     "node_id": "gYwUR2XdWfCyihgpN9zuvO",
     "type": "CODE"
    }
   },
   "outputs": [
    {
     "name": "stdout",
     "output_type": "stream",
     "text": [
      "Fitting 3 folds for each of 144 candidates, totalling 432 fits\n",
      "                  precision    recall  f1-score   support\n",
      "\n",
      "        абориген       0.00      0.00      0.00         7\n",
      "           абхаз       0.00      0.00      0.00        22\n",
      "          аварец       0.00      0.00      0.00        36\n",
      "           адыги       0.00      0.00      0.00        16\n",
      "   азербайджанец       0.00      0.00      0.00        62\n",
      "         азербот       0.00      0.00      0.00         5\n",
      "           азиат       0.00      0.00      0.00        14\n",
      "           аланы       0.00      0.00      0.00         9\n",
      "          алтаец       0.00      0.00      0.00         7\n",
      "      американец       0.00      0.00      0.00         9\n",
      "         армянин       0.00      0.00      0.00        24\n",
      "          башкир       0.00      0.00      0.00        11\n",
      "         беларус       0.00      0.00      0.00         9\n",
      "           бурят       0.10      0.10      0.10        10\n",
      "великоросс_кацап       0.14      0.14      0.14         7\n",
      "            вепс       0.00      0.00      0.00         9\n",
      "          гагауз       0.00      0.00      0.00         3\n",
      "    гастарбайтер       0.00      0.00      0.00         7\n",
      "           горец       0.00      0.00      0.00         4\n",
      "      дагестанец       0.05      0.08      0.06        13\n",
      "        евразиец       0.00      0.00      0.00         6\n",
      "           еврей       0.00      0.00      0.00        19\n",
      "       западенцы       0.00      0.00      0.00         7\n",
      "        инородец       0.00      0.00      0.00        17\n",
      "      кабардинец       0.00      0.00      0.00         9\n",
      "        кавказец       0.00      0.00      0.00        31\n",
      "           казак       0.00      0.00      0.00        25\n",
      "           казах       0.00      0.00      0.00        81\n",
      "          калмык       0.00      0.00      0.00        31\n",
      "          караим       0.00      0.00      0.00        18\n",
      "      карачаевец       0.00      0.00      0.00        12\n",
      "           карел       0.00      0.00      0.00        23\n",
      "           коряк       0.00      0.00      0.00         6\n",
      "           латыш       0.05      0.20      0.08         5\n",
      "         литовец       0.00      0.00      0.00         2\n",
      "        малоросс       0.00      0.00      0.00         4\n",
      "           манси       0.00      0.00      0.00         5\n",
      "          мариец       0.03      0.20      0.04         5\n",
      "          монгол       0.00      0.00      0.00        11\n",
      "         мордвин       0.00      0.00      0.00         2\n",
      "          нанаец       0.00      0.00      0.00        16\n",
      "          нацмен       0.07      0.09      0.08        11\n",
      "            негр       0.03      0.11      0.05         9\n",
      "           немец       0.00      0.00      0.00        22\n",
      "           ненец       0.00      0.00      0.00        17\n",
      "       нерусский       0.00      0.00      0.00        11\n",
      "          ногаец       0.00      0.00      0.00         9\n",
      "          осетин       0.33      0.03      0.06        33\n",
      "        пархатый       0.00      0.00      0.00         5\n",
      "          пендос       0.04      0.25      0.07         4\n",
      "           поляк       0.00      0.00      0.00        24\n",
      "         прибалт       0.11      0.11      0.11         9\n",
      "         славяин       0.00      0.00      0.00        14\n",
      "          таджик       0.00      0.00      0.00        20\n",
      "         татарин       0.00      0.00      0.00        14\n",
      "          удмурт       0.00      0.00      0.00         9\n",
      "      узкоглазый       0.00      0.00      0.00         8\n",
      "        украинец       0.00      0.00      0.00        14\n",
      "             хач       0.00      0.00      0.00         4\n",
      "           хохол       0.00      0.00      0.00        20\n",
      "           цыган       0.00      0.00      0.00         4\n",
      "          черкес       0.00      0.00      0.00         8\n",
      "      черножопый       0.06      0.12      0.08         8\n",
      "         чеченец       0.00      0.00      0.00        22\n",
      "           чуваш       0.00      0.00      0.00        16\n",
      "            чудь       0.00      0.00      0.00         4\n",
      "           чукча       0.00      0.00      0.00         6\n",
      "           чурка       0.00      0.00      0.00        14\n",
      "          чучмек       0.00      0.00      0.00         5\n",
      "           эвенк       0.00      0.00      0.00         9\n",
      "\n",
      "        accuracy                           0.01       972\n",
      "       macro avg       0.01      0.02      0.01       972\n",
      "    weighted avg       0.02      0.01      0.01       972\n",
      "\n"
     ]
    },
    {
     "name": "stderr",
     "output_type": "stream",
     "text": [
      "c:\\Users\\user\\anaconda3\\lib\\site-packages\\sklearn\\metrics\\_classification.py:1471: UndefinedMetricWarning: Precision and F-score are ill-defined and being set to 0.0 in labels with no predicted samples. Use `zero_division` parameter to control this behavior.\n",
      "  _warn_prf(average, modifier, msg_start, len(result))\n",
      "c:\\Users\\user\\anaconda3\\lib\\site-packages\\sklearn\\metrics\\_classification.py:1471: UndefinedMetricWarning: Precision and F-score are ill-defined and being set to 0.0 in labels with no predicted samples. Use `zero_division` parameter to control this behavior.\n",
      "  _warn_prf(average, modifier, msg_start, len(result))\n",
      "c:\\Users\\user\\anaconda3\\lib\\site-packages\\sklearn\\metrics\\_classification.py:1471: UndefinedMetricWarning: Precision and F-score are ill-defined and being set to 0.0 in labels with no predicted samples. Use `zero_division` parameter to control this behavior.\n",
      "  _warn_prf(average, modifier, msg_start, len(result))\n"
     ]
    }
   ],
   "source": [
    "params_RF = [{\n",
    "\"n_estimators\": [20, 50, 100], # число деревьев в ансамбле\n",
    "\"criterion\": [\"gini\", \"entropy\"], # критерий для оценивания качества разбиения\n",
    "\"max_depth\": [5, 10], # лимит на максимальную глубину деревьев в ансамбле\n",
    "\"min_samples_split\": [10, 50, 100],# минимальное число сэмплов в узле для разбиения\n",
    "\"max_features\": [\"sqrt\", \"log2\"], # число рассматриваемых фичей ('столбцов' в датасете) при делении в узле (для best split)\n",
    "\"class_weight\": [None, \"balanced\"], # балансировка весов для классов\n",
    "\"random_state\": [42], # число для задания случайности\n",
    "}]\n",
    "\n",
    "gs_forest = GridSearchCV(\n",
    "    RandomForestClassifier(),\n",
    "    params_RF,\n",
    "    verbose = 1,\n",
    "    cv=3,\n",
    "    n_jobs=-1,\n",
    "    scoring=\"f1_macro\"\n",
    ")\n",
    "\n",
    "gs_forest_res = gs_forest.fit(data_train_vect, data_train_cat)\n",
    "pred_forest = gs_forest_res.best_estimator_.predict(data_test_vect)\n",
    "print(metrics.classification_report(data_test_cat, pred_forest))"
   ]
  },
  {
   "cell_type": "code",
   "execution_count": 54,
   "metadata": {},
   "outputs": [
    {
     "name": "stdout",
     "output_type": "stream",
     "text": [
      "Лучший score=0.0132\n"
     ]
    }
   ],
   "source": [
    "print(f\"Лучший score={gs_forest_res.best_score_:.4f}\")"
   ]
  },
  {
   "cell_type": "markdown",
   "metadata": {},
   "source": [
    "#### SVM"
   ]
  },
  {
   "cell_type": "code",
   "execution_count": 57,
   "metadata": {
    "datalore": {
     "hide_input_from_viewers": true,
     "hide_output_from_viewers": true,
     "node_id": "kpp7K4zQMtkwH3phW6RrMJ",
     "type": "CODE"
    }
   },
   "outputs": [
    {
     "name": "stdout",
     "output_type": "stream",
     "text": [
      "Fitting 3 folds for each of 39 candidates, totalling 117 fits\n",
      "                  precision    recall  f1-score   support\n",
      "\n",
      "        абориген       0.00      0.00      0.00         7\n",
      "           абхаз       0.04      0.05      0.04        22\n",
      "          аварец       0.05      0.08      0.07        36\n",
      "           адыги       0.05      0.06      0.05        16\n",
      "   азербайджанец       0.05      0.06      0.06        62\n",
      "         азербот       0.00      0.00      0.00         5\n",
      "           азиат       0.06      0.07      0.06        14\n",
      "           аланы       0.00      0.00      0.00         9\n",
      "          алтаец       0.00      0.00      0.00         7\n",
      "      американец       0.00      0.00      0.00         9\n",
      "         армянин       0.11      0.04      0.06        24\n",
      "          башкир       0.00      0.00      0.00        11\n",
      "         беларус       0.00      0.00      0.00         9\n",
      "           бурят       0.00      0.00      0.00        10\n",
      "великоросс_кацап       0.12      0.14      0.13         7\n",
      "            вепс       0.00      0.00      0.00         9\n",
      "          гагауз       0.00      0.00      0.00         3\n",
      "    гастарбайтер       0.06      0.14      0.08         7\n",
      "           горец       0.00      0.00      0.00         4\n",
      "      дагестанец       0.11      0.08      0.09        13\n",
      "        евразиец       0.00      0.00      0.00         6\n",
      "           еврей       0.07      0.05      0.06        19\n",
      "       западенцы       0.00      0.00      0.00         7\n",
      "        инородец       0.09      0.12      0.10        17\n",
      "      кабардинец       0.00      0.00      0.00         9\n",
      "        кавказец       0.00      0.00      0.00        31\n",
      "           казак       0.12      0.08      0.10        25\n",
      "           казах       0.06      0.05      0.05        81\n",
      "          калмык       0.05      0.06      0.06        31\n",
      "          караим       0.00      0.00      0.00        18\n",
      "      карачаевец       0.00      0.00      0.00        12\n",
      "           карел       0.04      0.04      0.04        23\n",
      "           коряк       0.00      0.00      0.00         6\n",
      "           латыш       0.00      0.00      0.00         5\n",
      "         литовец       0.00      0.00      0.00         2\n",
      "        малоросс       0.00      0.00      0.00         4\n",
      "           манси       0.00      0.00      0.00         5\n",
      "          мариец       0.50      0.20      0.29         5\n",
      "          монгол       0.00      0.00      0.00        11\n",
      "         мордвин       0.00      0.00      0.00         2\n",
      "          нанаец       0.00      0.00      0.00        16\n",
      "          нацмен       0.00      0.00      0.00        11\n",
      "            негр       0.00      0.00      0.00         9\n",
      "           немец       0.06      0.05      0.05        22\n",
      "           ненец       0.00      0.00      0.00        17\n",
      "       нерусский       0.00      0.00      0.00        11\n",
      "          ногаец       0.00      0.00      0.00         9\n",
      "          осетин       0.00      0.00      0.00        33\n",
      "        пархатый       0.00      0.00      0.00         5\n",
      "          пендос       0.05      0.25      0.08         4\n",
      "           поляк       0.07      0.04      0.05        24\n",
      "         прибалт       0.00      0.00      0.00         9\n",
      "         славяин       0.00      0.00      0.00        14\n",
      "          таджик       0.00      0.00      0.00        20\n",
      "         татарин       0.10      0.14      0.11        14\n",
      "          удмурт       0.00      0.00      0.00         9\n",
      "      узкоглазый       0.00      0.00      0.00         8\n",
      "        украинец       0.00      0.00      0.00        14\n",
      "             хач       0.00      0.00      0.00         4\n",
      "           хохол       0.00      0.00      0.00        20\n",
      "           цыган       0.00      0.00      0.00         4\n",
      "          черкес       0.00      0.00      0.00         8\n",
      "      черножопый       0.00      0.00      0.00         8\n",
      "         чеченец       0.07      0.05      0.06        22\n",
      "           чуваш       0.14      0.12      0.13        16\n",
      "            чудь       0.00      0.00      0.00         4\n",
      "           чукча       0.00      0.00      0.00         6\n",
      "           чурка       0.00      0.00      0.00        14\n",
      "          чучмек       0.00      0.00      0.00         5\n",
      "           эвенк       0.00      0.00      0.00         9\n",
      "\n",
      "        accuracy                           0.04       972\n",
      "       macro avg       0.03      0.03      0.03       972\n",
      "    weighted avg       0.04      0.04      0.04       972\n",
      "\n"
     ]
    },
    {
     "name": "stderr",
     "output_type": "stream",
     "text": [
      "c:\\Users\\user\\anaconda3\\lib\\site-packages\\sklearn\\metrics\\_classification.py:1471: UndefinedMetricWarning: Precision and F-score are ill-defined and being set to 0.0 in labels with no predicted samples. Use `zero_division` parameter to control this behavior.\n",
      "  _warn_prf(average, modifier, msg_start, len(result))\n",
      "c:\\Users\\user\\anaconda3\\lib\\site-packages\\sklearn\\metrics\\_classification.py:1471: UndefinedMetricWarning: Precision and F-score are ill-defined and being set to 0.0 in labels with no predicted samples. Use `zero_division` parameter to control this behavior.\n",
      "  _warn_prf(average, modifier, msg_start, len(result))\n",
      "c:\\Users\\user\\anaconda3\\lib\\site-packages\\sklearn\\metrics\\_classification.py:1471: UndefinedMetricWarning: Precision and F-score are ill-defined and being set to 0.0 in labels with no predicted samples. Use `zero_division` parameter to control this behavior.\n",
      "  _warn_prf(average, modifier, msg_start, len(result))\n"
     ]
    }
   ],
   "source": [
    "params_SVM = [{\n",
    "\"C\": [0.1, 1.0, 10.0], # параметр регуляризации; сила регуляризации обратно пропорциональна C\n",
    "\"kernel\": [\"poly\"], # тип используемого ядра\n",
    "\"gamma\": [0.001, 0.0001, \"scale\"], # коэффициент для ядер (‘rbf’, ‘poly’, ‘sigmoid’)\n",
    "\"degree\": [3, 4, 5], # степень функции ядра \"poly\"\n",
    "\"class_weight\": [\"balanced\"], # балансировка весов для классов\n",
    "\"random_state\": [42], # число для задания случайности\n",
    "},{\n",
    "\"C\": [0.1, 1.0, 10.0], # параметр регуляризации; сила регуляризации обратно пропорциональна C\n",
    "\"kernel\": [\"linear\"], # тип используемого ядра\n",
    "\"class_weight\": [\"balanced\"], # балансировка весов для классов\n",
    "\"random_state\": [42], # число для задания случайности\n",
    "},{\n",
    "\"C\": [0.1, 1.0, 10.0], # параметр регуляризации; сила регуляризации обратно пропорциональна C\n",
    "\"kernel\": [\"rbf\"], # тип используемого ядра\n",
    "\"gamma\": [0.001, 0.0001, \"scale\"], # коэффициент для ядер (‘rbf’, ‘poly’, ‘sigmoid’)\n",
    "\"class_weight\": [\"balanced\"], # балансировка весов для классов\n",
    "\"random_state\": [42], # число для задания случайности\n",
    "}]\n",
    "\n",
    "gs_SVM = GridSearchCV( # параметры GridSearchCV\n",
    "    svm.SVC(gamma=\"scale\"),\n",
    "    params_SVM,\n",
    "    verbose = 1,\n",
    "    cv=3,\n",
    "    n_jobs=-1,\n",
    "    scoring=\"f1_macro\"\n",
    ")\n",
    "\n",
    "gs_SVM_res = gs_SVM.fit(data_train_vect, data_train_cat) # подбираем лучшие параметры для оценщика\n",
    "pred_SVM = gs_SVM_res.best_estimator_.predict(data_test_vect) # предсказываем\n",
    "print(metrics.classification_report(data_test_cat, pred_SVM)) # выписываем основные метрики"
   ]
  },
  {
   "cell_type": "code",
   "execution_count": 58,
   "metadata": {},
   "outputs": [
    {
     "name": "stdout",
     "output_type": "stream",
     "text": [
      "Лучший score=0.0176\n"
     ]
    }
   ],
   "source": [
    "print(f\"Лучший score={gs_SVM_res.best_score_:.4f}\")"
   ]
  },
  {
   "cell_type": "markdown",
   "metadata": {},
   "source": [
    "#### Decision Tree"
   ]
  },
  {
   "cell_type": "code",
   "execution_count": 59,
   "metadata": {},
   "outputs": [
    {
     "name": "stdout",
     "output_type": "stream",
     "text": [
      "Fitting 3 folds for each of 108 candidates, totalling 324 fits\n",
      "                  precision    recall  f1-score   support\n",
      "\n",
      "        абориген       0.00      0.00      0.00         7\n",
      "           абхаз       0.03      0.05      0.03        22\n",
      "          аварец       0.01      0.03      0.02        36\n",
      "           адыги       0.00      0.00      0.00        16\n",
      "   азербайджанец       0.07      0.21      0.10        62\n",
      "         азербот       0.00      0.00      0.00         5\n",
      "           азиат       0.00      0.00      0.00        14\n",
      "           аланы       0.00      0.00      0.00         9\n",
      "          алтаец       0.00      0.00      0.00         7\n",
      "      американец       0.00      0.00      0.00         9\n",
      "         армянин       0.00      0.00      0.00        24\n",
      "          башкир       0.00      0.00      0.00        11\n",
      "         беларус       0.00      0.00      0.00         9\n",
      "           бурят       0.00      0.00      0.00        10\n",
      "великоросс_кацап       0.00      0.00      0.00         7\n",
      "            вепс       0.00      0.00      0.00         9\n",
      "          гагауз       0.00      0.00      0.00         3\n",
      "    гастарбайтер       0.00      0.00      0.00         7\n",
      "           горец       0.00      0.00      0.00         4\n",
      "      дагестанец       0.00      0.00      0.00        13\n",
      "        евразиец       0.00      0.00      0.00         6\n",
      "           еврей       0.00      0.00      0.00        19\n",
      "       западенцы       0.00      0.00      0.00         7\n",
      "        инородец       0.00      0.00      0.00        17\n",
      "      кабардинец       0.00      0.00      0.00         9\n",
      "        кавказец       0.00      0.00      0.00        31\n",
      "           казак       0.00      0.00      0.00        25\n",
      "           казах       0.10      0.49      0.17        81\n",
      "          калмык       0.00      0.00      0.00        31\n",
      "          караим       0.00      0.00      0.00        18\n",
      "      карачаевец       0.00      0.00      0.00        12\n",
      "           карел       0.12      0.09      0.10        23\n",
      "           коряк       0.00      0.00      0.00         6\n",
      "           латыш       0.00      0.00      0.00         5\n",
      "         литовец       0.00      0.00      0.00         2\n",
      "        малоросс       0.00      0.00      0.00         4\n",
      "           манси       0.00      0.00      0.00         5\n",
      "          мариец       0.00      0.00      0.00         5\n",
      "          монгол       0.00      0.00      0.00        11\n",
      "         мордвин       0.00      0.00      0.00         2\n",
      "          нанаец       0.00      0.00      0.00        16\n",
      "          нацмен       0.00      0.00      0.00        11\n",
      "            негр       0.00      0.00      0.00         9\n",
      "           немец       0.00      0.00      0.00        22\n",
      "           ненец       0.00      0.00      0.00        17\n",
      "       нерусский       0.00      0.00      0.00        11\n",
      "          ногаец       0.00      0.00      0.00         9\n",
      "          осетин       0.04      0.03      0.04        33\n",
      "        пархатый       0.00      0.00      0.00         5\n",
      "          пендос       0.00      0.00      0.00         4\n",
      "           поляк       0.00      0.00      0.00        24\n",
      "         прибалт       0.00      0.00      0.00         9\n",
      "         славяин       0.00      0.00      0.00        14\n",
      "          таджик       0.00      0.00      0.00        20\n",
      "         татарин       0.00      0.00      0.00        14\n",
      "          удмурт       0.00      0.00      0.00         9\n",
      "      узкоглазый       0.00      0.00      0.00         8\n",
      "        украинец       0.00      0.00      0.00        14\n",
      "             хач       0.00      0.00      0.00         4\n",
      "           хохол       0.00      0.00      0.00        20\n",
      "           цыган       0.00      0.00      0.00         4\n",
      "          черкес       0.00      0.00      0.00         8\n",
      "      черножопый       0.00      0.00      0.00         8\n",
      "         чеченец       0.00      0.00      0.00        22\n",
      "           чуваш       0.20      0.12      0.15        16\n",
      "            чудь       0.00      0.00      0.00         4\n",
      "           чукча       0.00      0.00      0.00         6\n",
      "           чурка       0.00      0.00      0.00        14\n",
      "          чучмек       0.00      0.00      0.00         5\n",
      "           эвенк       0.00      0.00      0.00         9\n",
      "\n",
      "        accuracy                           0.06       972\n",
      "       macro avg       0.01      0.01      0.01       972\n",
      "    weighted avg       0.02      0.06      0.03       972\n",
      "\n"
     ]
    },
    {
     "name": "stderr",
     "output_type": "stream",
     "text": [
      "c:\\Users\\user\\anaconda3\\lib\\site-packages\\sklearn\\metrics\\_classification.py:1471: UndefinedMetricWarning: Precision and F-score are ill-defined and being set to 0.0 in labels with no predicted samples. Use `zero_division` parameter to control this behavior.\n",
      "  _warn_prf(average, modifier, msg_start, len(result))\n",
      "c:\\Users\\user\\anaconda3\\lib\\site-packages\\sklearn\\metrics\\_classification.py:1471: UndefinedMetricWarning: Precision and F-score are ill-defined and being set to 0.0 in labels with no predicted samples. Use `zero_division` parameter to control this behavior.\n",
      "  _warn_prf(average, modifier, msg_start, len(result))\n",
      "c:\\Users\\user\\anaconda3\\lib\\site-packages\\sklearn\\metrics\\_classification.py:1471: UndefinedMetricWarning: Precision and F-score are ill-defined and being set to 0.0 in labels with no predicted samples. Use `zero_division` parameter to control this behavior.\n",
      "  _warn_prf(average, modifier, msg_start, len(result))\n"
     ]
    }
   ],
   "source": [
    "params_DT = [{\n",
    "\"criterion\": [\"gini\", \"entropy\"], # критерий для оценивания качества разбиения\n",
    "\"max_depth\": [10, 15, 20], # максимальная глубина дерева\n",
    "\"min_samples_split\": [10, 50, 100], # минимальное число сэмплов в узле для разбиения\n",
    "\"max_features\": [None, \"sqrt\", \"log2\"], # число рассматриваемых фичей ('столбцов' в датасете) при делении в узле (для best split)\n",
    "\"class_weight\": [None, \"balanced\"], # балансировка весов для классов\n",
    "\"random_state\": [42], # число для задания случайности\n",
    "}]\n",
    "\n",
    "gs_DT = GridSearchCV( # параметры GridSearchCV\n",
    "    DecisionTreeClassifier(), \n",
    "    params_DT,\n",
    "    verbose = 1,\n",
    "    cv=3,\n",
    "    n_jobs=-1,\n",
    "    scoring=\"f1_macro\"\n",
    ")\n",
    "\n",
    "gs_DT_res = gs_DT.fit(data_train_vect, data_train_cat) # подбираем лучшие параметры для оценщика\n",
    "pred_DT = gs_DT_res.best_estimator_.predict(data_test_vect) # предсказываем\n",
    "print(metrics.classification_report(data_test_cat, pred_DT)) # выписываем основные метрики"
   ]
  },
  {
   "cell_type": "code",
   "execution_count": 63,
   "metadata": {},
   "outputs": [
    {
     "data": {
      "text/plain": [
       "(972, 919)"
      ]
     },
     "execution_count": 63,
     "metadata": {},
     "output_type": "execute_result"
    }
   ],
   "source": [
    "data_test_vect.shape"
   ]
  },
  {
   "cell_type": "code",
   "execution_count": 62,
   "metadata": {},
   "outputs": [
    {
     "name": "stdout",
     "output_type": "stream",
     "text": [
      "Лучший score=0.0102\n"
     ]
    }
   ],
   "source": [
    "print(f\"Лучший score={gs_DT_res.best_score_:.4f}\")"
   ]
  },
  {
   "cell_type": "markdown",
   "metadata": {},
   "source": [
    "### Вывод"
   ]
  },
  {
   "cell_type": "code",
   "execution_count": 65,
   "metadata": {},
   "outputs": [
    {
     "data": {
      "image/png": "[encoded data removed]",
      "text/plain": [
       "<Figure size 720x720 with 1 Axes>"
      ]
     },
     "metadata": {
      "needs_background": "light"
     },
     "output_type": "display_data"
    }
   ],
   "source": [
    "plt.figure(figsize=(10,10))\n",
    "plt.bar([\"KNN\", \"SVM\", \"Decision Tree\", \"Random Forest\"], [0.0131, 0.0176, 0.0102, 0.0132], color=[\"#5da400\", \"#98d970\", \"#f69d9d\", \"#fe2f2f\"])\n",
    "plt.title('Сравнение получившегося качества моделей')\n",
    "plt.xlabel('Модель')\n",
    "plt.ylabel('F1 macro score')\n",
    "plt.show()"
   ]
  }
 ],
 "metadata": {
  "datalore": {
   "base_environment": "default",
   "computation_mode": "JUPYTER",
   "package_manager": "pip",
   "packages": [
    {
     "name": "pymorphy2",
     "source": "PIP",
     "version": "0.9.1"
    },
    {
     "name": "nltk",
     "source": "PIP",
     "version": "3.8.1"
    },
    {
     "name": "rusenttokenize",
     "source": "PIP",
     "version": "0.0.5"
    }
   ],
   "report_row_ids": [],
   "version": 3
  },
  "kernelspec": {
   "display_name": "base",
   "language": "python",
   "name": "python3"
  },
  "language_info": {
   "codemirror_mode": {
    "name": "ipython",
    "version": 3
   },
   "file_extension": ".py",
   "mimetype": "text/x-python",
   "name": "python",
   "nbconvert_exporter": "python",
   "pygments_lexer": "ipython3",
   "version": "3.8.3"
  }
 },
 "nbformat": 4,
 "nbformat_minor": 4
}
